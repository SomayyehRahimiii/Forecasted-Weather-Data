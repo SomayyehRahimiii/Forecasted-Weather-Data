{
  "nbformat": 4,
  "nbformat_minor": 0,
  "metadata": {
    "colab": {
      "provenance": []
    },
    "kernelspec": {
      "name": "python3",
      "display_name": "Python 3"
    },
    "language_info": {
      "name": "python"
    }
  },
  "cells": [
    {
      "cell_type": "markdown",
      "source": [
        "**Automated download of Weather Forecast Data from Web Source**"
      ],
      "metadata": {
        "id": "nFXhj-YJ0ea2"
      }
    },
    {
      "cell_type": "code",
      "source": [
        "import requests\n",
        "import pandas as pd\n",
        "from datetime import datetime\n",
        "\n",
        "# Define the API endpoint\n",
        "url = \"https://api.weatherapi.com/v1/forecast.json\"\n",
        "\n",
        "# Define the location for which you want the weather forecast\n",
        "location = \"Ankara, Turkey\"\n",
        "\n",
        "# Send a request to the API and retrieve the forecast data for the next 7 days\n",
        "params = {\n",
        "    \"key\": \"df2858713f004e1b957233622232305\",\n",
        "    \"q\": location,\n",
        "    \"days\": 7,  # Number of forecast days (up to 7 for free tier)\n",
        "    \"aqi\": \"no\"\n",
        "}\n",
        "response = requests.get(url, params=params)\n",
        "data = response.json()\n",
        "\n",
        "# Extract the forecasted weather information for each day and hour\n",
        "forecast_data = []\n",
        "for day in data[\"forecast\"][\"forecastday\"]:\n",
        "    date = day[\"date\"]\n",
        "    for hour in day[\"hour\"]:\n",
        "        time = hour[\"time\"]\n",
        "        temperature = hour[\"temp_c\"]\n",
        "        humidity = hour[\"humidity\"]\n",
        "        wind_speed = hour[\"wind_kph\"]\n",
        "        description = hour[\"condition\"][\"text\"]\n",
        "        forecast_data.append([date, time, temperature, humidity, wind_speed, description])\n",
        "\n",
        "# Create a DataFrame to store the forecasted weather data\n",
        "weather_data = pd.DataFrame(forecast_data, columns=[\"Date\", \"Time\", \"Temperature (°C)\", \"Humidity (%)\", \"Wind Speed (km/h)\", \"Description\"])\n",
        "\n",
        "# Add a timestamp column with the current time\n",
        "current_time = datetime.now().strftime(\"%Y-%m-%d %H:%M:%S\")\n",
        "weather_data[\"Timestamp\"] = current_time\n",
        "\n",
        "# Save the forecasted weather data to an Excel file\n",
        "file_name = \"weather_forecast.xlsx\"\n",
        "weather_data.to_excel(file_name, index=False)\n",
        "print(f\"Weather forecast data for the next week saved to '{file_name}' with a timestamp of '{current_time}'.\")\n"
      ],
      "metadata": {
        "colab": {
          "base_uri": "https://localhost:8080/"
        },
        "id": "lBS2xU3kIq2_",
        "outputId": "04a46988-1bb5-4ceb-98ef-59785aa2b63a"
      },
      "execution_count": 1,
      "outputs": [
        {
          "output_type": "stream",
          "name": "stdout",
          "text": [
            "Weather forecast data for the next week saved to 'weather_forecast.xlsx' with a timestamp of '2023-09-24 15:34:53'.\n"
          ]
        }
      ]
    },
    {
      "cell_type": "code",
      "source": [],
      "metadata": {
        "id": "m6Yrykdt1EUI"
      },
      "execution_count": null,
      "outputs": []
    }
  ]
}